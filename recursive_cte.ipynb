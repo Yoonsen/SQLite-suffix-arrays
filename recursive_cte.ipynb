{
 "cells": [
  {
   "cell_type": "code",
   "execution_count": 3,
   "id": "1dbf9543-3b29-40e4-9f47-8fa52bc5c28d",
   "metadata": {
    "tags": []
   },
   "outputs": [],
   "source": [
    "import sqlite3\n"
   ]
  },
  {
   "cell_type": "code",
   "execution_count": 4,
   "id": "32711be4-d4e4-473c-b30e-2ed4eb11d2dd",
   "metadata": {
    "tags": []
   },
   "outputs": [],
   "source": [
    "db = \"/mnt/disk1/Github/total.db\""
   ]
  },
  {
   "cell_type": "code",
   "execution_count": 5,
   "id": "4347d3a9-1cb1-499e-bbf4-e2bbe4731068",
   "metadata": {
    "tags": []
   },
   "outputs": [],
   "source": [
    "# fra chatGPT\n",
    "\n",
    "def find(db, word):\n",
    "    sql = f\"\"\"\n",
    "WITH RECURSIVE bisection(lower, upper) AS (\n",
    "  /* SELECT 0, COUNT(*) FROM words */\n",
    "  select 0, 223039157\n",
    "  UNION ALL\n",
    "  SELECT lower, lower + (upper - lower) / 2\n",
    "  FROM bisection WHERE (SELECT word FROM words\n",
    "                        LIMIT 1 OFFSET lower + (upper - lower) / 2) < '{word}'\n",
    "  UNION ALL\n",
    "  SELECT lower + (upper - lower) / 2 + 1, upper\n",
    "  FROM bisection WHERE (SELECT word FROM words\n",
    "                        LIMIT 1 OFFSET lower + (upper - lower) / 2) >= '{word}'\n",
    ")\n",
    "SELECT word, freq FROM words\n",
    "WHERE word = '{word}';\n",
    "\"\"\"\n",
    "    with sqlite3.connect(db) as con:\n",
    "        res = con.execute(sql).fetchall()\n",
    "    return res\n",
    "\n",
    "def find2(db, word):\n",
    "    sql = f\"\"\"\n",
    "WITH RECURSIVE bisection(word, freq, lower, upper) AS (\n",
    "  SELECT \"\", 0, min(rowid), max(rowid) FROM words\n",
    "  UNION ALL\n",
    "  SELECT word, freq, lower, lower + (upper - lower) / 2\n",
    "  FROM bisection WHERE (SELECT word, freq FROM words\n",
    "                        where rowid = lower + (upper - lower) / 2\n",
    "                        and word < '{word}' limit 1) \n",
    "  UNION ALL\n",
    "  SELECT word, freq, lower + (upper - lower) / 2 + 1, upper\n",
    "  FROM bisection WHERE (SELECT word, freq FROM words\n",
    "                          where rowid = lower + (upper - lower) / 2\n",
    "                             and word >= '{word}' limit 1)\n",
    ")\n",
    "SELECT word, freq FROM bisection\n",
    "WHERE word = '{word}';\n",
    "\"\"\"\n",
    "    with sqlite3.connect(db) as con:\n",
    "        res = con.execute(sql).fetchall()\n",
    "    return res\n",
    "\n",
    "def simple(db, word):\n",
    "    sql = f\"select rowid, word, freq from words where word = '{word}' limit 1\"\n",
    "    with sqlite3.connect(db) as con:\n",
    "        res = con.execute(sql).fetchall()\n",
    "    return res\n",
    "\n",
    "def query(db, sql, params=()):\n",
    "    with sqlite3.connect(db) as con:\n",
    "        res = con.execute(sql, params).fetchall()\n",
    "    return res"
   ]
  },
  {
   "cell_type": "code",
   "execution_count": 128,
   "id": "6a6aa218-01df-4904-919f-b9e4ae3f7200",
   "metadata": {
    "tags": []
   },
   "outputs": [],
   "source": [
    "def bisect(db, word):\n",
    "    minrow = query(db, \"select rowid from words order by rowid asc limit 1\")[0][0]\n",
    "    maxrow = query(db, \"select rowid from words order by rowid desc limit 1\")[0][0]\n",
    "    found = False\n",
    "    fromrow = minrow\n",
    "    torow = maxrow\n",
    "    targeted = (\"\",0)\n",
    "    i = 0\n",
    "    while (not found) :\n",
    "        i += 1\n",
    "        midrow = int(fromrow + (torow - fromrow)/2)\n",
    "        targeted = query(db, f\"select word, freq, rowid from words where rowid={midrow}\")[0]\n",
    "        #print(midrow, targeted)\n",
    "        if word == targeted[0] or torow == fromrow:\n",
    "            #print(targeted, torow, fromrow)\n",
    "            found = True\n",
    "        elif word > targeted[0]:\n",
    "            torow = midrow \n",
    "        else:\n",
    "            fromrow = midrow\n",
    "    print(i)\n",
    "    return targeted\n",
    "\n",
    "def bisectall(db, word):\n",
    "    \n",
    "    minrow = query(db, \"select rowid from words order by rowid asc limit 1\")[0][0]\n",
    "    maxrow = query(db, \"select rowid from words order by rowid desc limit 1\")[0][0]\n",
    "    \n",
    "    def bisect(db, word, minrow, maxrow):\n",
    "        found = False\n",
    "        fromrow = minrow\n",
    "        torow = maxrow\n",
    "        targeted = (\"\",0)\n",
    "        res = []\n",
    "        i = 0\n",
    "        delta = 0\n",
    "        limit = math.log2(maxrow + 1)\n",
    "        while (not found) and (fromrow <= torow) and i < limit:\n",
    "            i += 1\n",
    "            midrow = int(fromrow + (torow - fromrow)/2)\n",
    "            targeted = query(db, f\"select word, freq, rowid from words where rowid={midrow}\")[0]\n",
    "            #print(midrow, targeted, torow, fromrow)\n",
    "            if word == targeted[0]:\n",
    "                res.append(targeted)\n",
    "                print(targeted)\n",
    "                found = True\n",
    "                #print(i, targeted)\n",
    "                left, li = bisect(db, word, fromrow, midrow -1)\n",
    "                right, ri = bisect(db, word, midrow +1, torow )\n",
    "                i = li + ri\n",
    "                res += left\n",
    "                res += right\n",
    "            elif word > targeted[0]:\n",
    "                torow = midrow\n",
    "            else:\n",
    "                fromrow = midrow \n",
    "            #print(i)\n",
    "        return res, i\n",
    "    \n",
    "    return bisect(db, word, minrow, maxrow)\n",
    "\n",
    "\n",
    "def bisectiterate(db, word):\n",
    "    \n",
    "    minrow = query(db, \"select rowid from words order by rowid asc limit 1\")[0][0]\n",
    "    maxrow = query(db, \"select rowid from words order by rowid desc limit 1\")[0][0]\n",
    "    \n",
    "    def bisect(db, word, minrow, maxrow):\n",
    "        found = False\n",
    "        fromrow = minrow\n",
    "        torow = maxrow\n",
    "        targeted = (\"\",0)\n",
    "        res = []\n",
    "        i = 0\n",
    "        delta = 0\n",
    "        limit = math.log2(maxrow + 1)\n",
    "        while (not found) and (fromrow <= torow) and i < limit:\n",
    "            i += 1\n",
    "            midrow = int(fromrow + (torow - fromrow)/2)\n",
    "            targeted = query(db, f\"select word, freq, rowid from words where rowid={midrow}\")[0]\n",
    "            #print(midrow, targeted, torow, fromrow)\n",
    "            if word == targeted[0]:\n",
    "                res.append(targeted)\n",
    "                #print(targeted)\n",
    "                found = True\n",
    "                #print(i, targeted, fromrow, torow)\n",
    "                \n",
    "                leftcandidate = midrow - 1\n",
    "                lcandidate = query(db, f\"select word, freq, rowid from words where rowid={leftcandidate}\")[0]\n",
    "                while lcandidate[0] == word and leftcandidate >= fromrow:\n",
    "                    #print(leftcandidate)\n",
    "                    res.append(lcandidate)\n",
    "                    leftcandidate -= 1\n",
    "                    lcandidate = query(db, f\"select word, freq, rowid from words where rowid={leftcandidate}\")[0]\n",
    "                    \n",
    "                rightcandidate = midrow + 1\n",
    "                rcandidate = query(db, f\"select word, freq, rowid from words where rowid={rightcandidate}\")[0]\n",
    "                while rcandidate[0] == word and rightcandidate <= torow:\n",
    "                    #print(rightcandidate)\n",
    "                    res.append(rcandidate)\n",
    "                    rightcandidate += 1\n",
    "                    rcandidate = query(db, f\"select word, freq, rowid from words where rowid={rightcandidate}\")[0]\n",
    "                    \n",
    "            elif word > targeted[0]:\n",
    "                torow = midrow\n",
    "            else:\n",
    "                fromrow = midrow \n",
    "            #print(i)\n",
    "        return res, i\n",
    "    \n",
    "    return bisect(db, word, minrow, maxrow)"
   ]
  },
  {
   "cell_type": "code",
   "execution_count": 126,
   "id": "fcb4cad3-3f61-4b6f-bef2-64087530a8ac",
   "metadata": {
    "tags": []
   },
   "outputs": [
    {
     "name": "stdout",
     "output_type": "stream",
     "text": [
      "24\n",
      "CPU times: user 9.4 ms, sys: 0 ns, total: 9.4 ms\n",
      "Wall time: 8.14 ms\n"
     ]
    },
    {
     "data": {
      "text/plain": [
       "('Nasjonalbiblioteket', 419, 171961292)"
      ]
     },
     "execution_count": 126,
     "metadata": {},
     "output_type": "execute_result"
    }
   ],
   "source": [
    "%%time\n",
    "bisect(db, \"Nasjonalbiblioteket\")"
   ]
  },
  {
   "cell_type": "code",
   "execution_count": 133,
   "id": "0dda52ea-3b3f-48a5-a3bc-82d19018565f",
   "metadata": {
    "tags": []
   },
   "outputs": [
    {
     "name": "stdout",
     "output_type": "stream",
     "text": [
      "CPU times: user 5.5 ms, sys: 4.18 ms, total: 9.68 ms\n",
      "Wall time: 8.18 ms\n"
     ]
    },
    {
     "data": {
      "text/plain": [
       "([('håndterlig', 315, 96661587), ('håndterlig', 747, 96661586)], 18)"
      ]
     },
     "execution_count": 133,
     "metadata": {},
     "output_type": "execute_result"
    }
   ],
   "source": [
    "%%time\n",
    "bisectiterate(db, \"håndterlig\")"
   ]
  },
  {
   "cell_type": "code",
   "execution_count": 130,
   "id": "b09a207b-c509-44fb-8de9-94815a7656ef",
   "metadata": {
    "tags": []
   },
   "outputs": [
    {
     "name": "stdout",
     "output_type": "stream",
     "text": [
      "('fiskesuppe', 2256, 115322219)\n",
      "('fiskesuppe', 8, 115322223)\n",
      "('fiskesuppe', 715, 115322221)\n",
      "('fiskesuppe', 1001, 115322220)\n",
      "('fiskesuppe', 99, 115322222)\n",
      "CPU times: user 10.4 ms, sys: 12.3 ms, total: 22.7 ms\n",
      "Wall time: 21.1 ms\n"
     ]
    },
    {
     "data": {
      "text/plain": [
       "([('fiskesuppe', 2256, 115322219),\n",
       "  ('fiskesuppe', 8, 115322223),\n",
       "  ('fiskesuppe', 715, 115322221),\n",
       "  ('fiskesuppe', 1001, 115322220),\n",
       "  ('fiskesuppe', 99, 115322222)],\n",
       " 54)"
      ]
     },
     "execution_count": 130,
     "metadata": {},
     "output_type": "execute_result"
    }
   ],
   "source": [
    "%%time\n",
    "bisectall(db, \"fiskesuppe\")"
   ]
  },
  {
   "cell_type": "code",
   "execution_count": 132,
   "id": "5a5bfe8f-8826-46cb-8c14-300a4f2563c3",
   "metadata": {
    "tags": []
   },
   "outputs": [
    {
     "name": "stdout",
     "output_type": "stream",
     "text": [
      "[('håndterlig', 315, 126501526), ('håndterlig', 747, 126437434)]\n",
      "CPU times: user 0 ns, sys: 3.51 ms, total: 3.51 ms\n",
      "Wall time: 2 ms\n"
     ]
    }
   ],
   "source": [
    "%%time\n",
    "with sqlite3.connect(db) as con:\n",
    "    print([x for x in con.execute(\"select word, freq, rowid from hyphendata where word = 'håndterlig'\").fetchall()])"
   ]
  },
  {
   "cell_type": "code",
   "execution_count": 46,
   "id": "47473e32-d310-445b-a819-01c7ff1c0f8c",
   "metadata": {},
   "outputs": [
    {
     "name": "stdout",
     "output_type": "stream",
     "text": [
      "CPU times: user 6 µs, sys: 1 µs, total: 7 µs\n",
      "Wall time: 14.5 µs\n"
     ]
    }
   ],
   "source": [
    "%%time\n",
    "#find2(db, \"spise\")"
   ]
  },
  {
   "cell_type": "code",
   "execution_count": 79,
   "id": "e5a69c70-4e42-4be3-a43e-420b9241d8be",
   "metadata": {
    "tags": []
   },
   "outputs": [
    {
     "name": "stdout",
     "output_type": "stream",
     "text": [
      "CPU times: user 6.89 s, sys: 752 ms, total: 7.64 s\n",
      "Wall time: 7.64 s\n"
     ]
    },
    {
     "data": {
      "text/plain": [
       "[(142016237, 'alvorlig', 307148)]"
      ]
     },
     "execution_count": 79,
     "metadata": {},
     "output_type": "execute_result"
    }
   ],
   "source": [
    "%%time\n",
    "simple(db, \"alvorlig\")"
   ]
  },
  {
   "cell_type": "code",
   "execution_count": 80,
   "id": "68b93a23-b9cf-4056-a0ad-5c0e9b6a2194",
   "metadata": {
    "tags": []
   },
   "outputs": [
    {
     "name": "stdout",
     "output_type": "stream",
     "text": [
      "[('alvorlig', 307148)]\n",
      "CPU times: user 1.85 ms, sys: 199 µs, total: 2.05 ms\n",
      "Wall time: 1.22 ms\n"
     ]
    }
   ],
   "source": [
    "%%time\n",
    "with sqlite3.connect(db) as con:\n",
    "    print(con.execute(\"select * from words where rowid = 142016237 \").fetchall())"
   ]
  },
  {
   "cell_type": "code",
   "execution_count": 86,
   "id": "fe070165-b796-4c0f-ae83-260cdd82ec75",
   "metadata": {
    "tags": []
   },
   "outputs": [
    {
     "name": "stdout",
     "output_type": "stream",
     "text": [
      "[('kultursplit', 'tet.', 'kultursplittet.', 1)]\n",
      "CPU times: user 3.23 ms, sys: 0 ns, total: 3.23 ms\n",
      "Wall time: 1.98 ms\n"
     ]
    }
   ],
   "source": [
    "%%time\n",
    "with sqlite3.connect(db) as con:\n",
    "    print(con.execute(\"select * from hyphendata where rowid = 142016237 \").fetchall())"
   ]
  },
  {
   "cell_type": "code",
   "execution_count": null,
   "id": "ce984a72-3375-4097-9fe9-c01a9664fa26",
   "metadata": {},
   "outputs": [],
   "source": []
  },
  {
   "cell_type": "code",
   "execution_count": null,
   "id": "0314459f-ea47-447d-a70e-e66b5e54743c",
   "metadata": {},
   "outputs": [],
   "source": []
  }
 ],
 "metadata": {
  "kernelspec": {
   "display_name": "Python 3 (ipykernel)",
   "language": "python",
   "name": "python3"
  },
  "language_info": {
   "codemirror_mode": {
    "name": "ipython",
    "version": 3
   },
   "file_extension": ".py",
   "mimetype": "text/x-python",
   "name": "python",
   "nbconvert_exporter": "python",
   "pygments_lexer": "ipython3",
   "version": "3.9.15"
  }
 },
 "nbformat": 4,
 "nbformat_minor": 5
}
