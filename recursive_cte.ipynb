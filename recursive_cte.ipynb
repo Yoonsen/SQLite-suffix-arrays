{
 "cells": [
  {
   "cell_type": "code",
   "execution_count": 2,
   "id": "4347d3a9-1cb1-499e-bbf4-e2bbe4731068",
   "metadata": {},
   "outputs": [
    {
     "ename": "SyntaxError",
     "evalue": "invalid syntax (2175552122.py, line 3)",
     "output_type": "error",
     "traceback": [
      "\u001b[0;36m  Cell \u001b[0;32mIn[2], line 3\u001b[0;36m\u001b[0m\n\u001b[0;31m    WITH RECURSIVE bisection(lower, upper) AS (\u001b[0m\n\u001b[0m         ^\u001b[0m\n\u001b[0;31mSyntaxError\u001b[0m\u001b[0;31m:\u001b[0m invalid syntax\n"
     ]
    }
   ],
   "source": [
    "# fra chatGPT\n",
    "%%sqlite\n",
    "WITH RECURSIVE bisection(lower, upper) AS (\n",
    "  SELECT 0, COUNT(*) FROM words\n",
    "  UNION ALL\n",
    "  SELECT lower, lower + (upper - lower) / 2\n",
    "  FROM bisection WHERE (SELECT word FROM words\n",
    "                        LIMIT 1 OFFSET lower + (upper - lower) / 2) < 'target'\n",
    "  UNION ALL\n",
    "  SELECT lower + (upper - lower) / 2 + 1, upper\n",
    "  FROM bisection WHERE (SELECT word FROM words\n",
    "                        LIMIT 1 OFFSET lower + (upper - lower) / 2) >= 'target'\n",
    ")\n",
    "SELECT word FROM words\n",
    "WHERE word = 'target';\n"
   ]
  }
 ],
 "metadata": {
  "kernelspec": {
   "display_name": "Python 3 (ipykernel)",
   "language": "python",
   "name": "python3"
  },
  "language_info": {
   "codemirror_mode": {
    "name": "ipython",
    "version": 3
   },
   "file_extension": ".py",
   "mimetype": "text/x-python",
   "name": "python",
   "nbconvert_exporter": "python",
   "pygments_lexer": "ipython3",
   "version": "3.9.16"
  }
 },
 "nbformat": 4,
 "nbformat_minor": 5
}
