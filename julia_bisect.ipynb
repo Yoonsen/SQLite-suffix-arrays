{
 "cells": [
  {
   "cell_type": "markdown",
   "id": "d9971c8f-cacb-4553-94b4-9200bba49c7c",
   "metadata": {
    "tags": []
   },
   "source": [
    "# Bisecting - halvering i Julia\n",
    "\n"
   ]
  },
  {
   "cell_type": "code",
   "execution_count": 13,
   "id": "13ab1e5d-8354-4573-8229-7825ba10a520",
   "metadata": {
    "tags": []
   },
   "outputs": [
    {
     "data": {
      "text/plain": [
       "\"/mnt/disk1/Github/total.db\""
      ]
     },
     "execution_count": 13,
     "metadata": {},
     "output_type": "execute_result"
    }
   ],
   "source": [
    "#total.db har en tabell \"hyphendata\" indeksert, og en uindeksert \"words\"\n",
    "\n",
    "db_file = \"/mnt/disk1/Github/total.db\""
   ]
  },
  {
   "cell_type": "markdown",
   "id": "d27d0324-8fb7-400c-a925-f1c4d5849890",
   "metadata": {},
   "source": [
    "### Importer moduler fra Julia"
   ]
  },
  {
   "cell_type": "code",
   "execution_count": 56,
   "id": "30c38223-d173-4470-abe4-af07dc077ed4",
   "metadata": {
    "tags": []
   },
   "outputs": [],
   "source": [
    "using SQLite;\n",
    "using DataFrames;\n",
    "using PyFormattedStrings;"
   ]
  },
  {
   "cell_type": "markdown",
   "id": "2f606fd4-de9a-4cb2-ab57-09603cc190c8",
   "metadata": {},
   "source": [
    "### Åpne en kobling"
   ]
  },
  {
   "cell_type": "code",
   "execution_count": 16,
   "id": "eda2b39a-f0da-4099-9fc6-070003037702",
   "metadata": {
    "tags": []
   },
   "outputs": [
    {
     "data": {
      "text/plain": [
       "SQLite.DB(\"/mnt/disk1/Github/total.db\")"
      ]
     },
     "execution_count": 16,
     "metadata": {},
     "output_type": "execute_result"
    }
   ],
   "source": [
    "db = SQLite.DB(db_file)"
   ]
  },
  {
   "cell_type": "code",
   "execution_count": 200,
   "id": "e2b01b12-a454-4de7-bc22-72bcee343af0",
   "metadata": {
    "tags": []
   },
   "outputs": [
    {
     "data": {
      "text/html": [
       "<div><div style = \"float: left;\"><span>3×2 DataFrame</span></div><div style = \"clear: both;\"></div></div><div class = \"data-frame\" style = \"overflow-x: scroll;\"><table class = \"data-frame\" style = \"margin-bottom: 6px;\"><thead><tr class = \"header\"><th class = \"rowNumber\" style = \"font-weight: bold; text-align: right;\">Row</th><th style = \"text-align: left;\">name</th><th style = \"text-align: left;\">schema</th></tr><tr class = \"subheader headerLastRow\"><th class = \"rowNumber\" style = \"font-weight: bold; text-align: right;\"></th><th title = \"String\" style = \"text-align: left;\">String</th><th title = \"Tables.Schema\" style = \"text-align: left;\">Schema</th></tr></thead><tbody><tr><td class = \"rowNumber\" style = \"font-weight: bold; text-align: right;\">1</td><td style = \"text-align: left;\">hyph</td><td style = \"text-align: left;\">Tables.Schema:\\n :first   Union{Missing, String}\\n :second  Union{Missing, String}</td></tr><tr><td class = \"rowNumber\" style = \"font-weight: bold; text-align: right;\">2</td><td style = \"text-align: left;\">hyphendata</td><td style = \"text-align: left;\">Tables.Schema:\\n :first   Union{Missing, String}\\n :second  Union{Missing, String}\\n :word    Union{Missing, String}\\n :freq    Union{Missing, Int64}</td></tr><tr><td class = \"rowNumber\" style = \"font-weight: bold; text-align: right;\">3</td><td style = \"text-align: left;\">words</td><td style = \"text-align: left;\">Tables.Schema:\\n :word  Union{Missing, String}\\n :freq  Union{Missing, Int64}</td></tr></tbody></table></div>"
      ],
      "text/latex": [
       "\\begin{tabular}{r|cc}\n",
       "\t& name & schema\\\\\n",
       "\t\\hline\n",
       "\t& String & Schema\\\\\n",
       "\t\\hline\n",
       "\t1 & hyph & Tables.Schema:\\textbackslash{}n :first   Union\\{Missing, String\\}\\textbackslash{}n :second  Union\\{Missing, String\\} \\\\\n",
       "\t2 & hyphendata & Tables.Schema:\\textbackslash{}n :first   Union\\{Missing, String\\}\\textbackslash{}n :second  Union\\{Missing, String\\}\\textbackslash{}n :word    Union\\{Missing, String\\}\\textbackslash{}n :freq    Union\\{Missing, Int64\\} \\\\\n",
       "\t3 & words & Tables.Schema:\\textbackslash{}n :word  Union\\{Missing, String\\}\\textbackslash{}n :freq  Union\\{Missing, Int64\\} \\\\\n",
       "\\end{tabular}\n"
      ],
      "text/plain": [
       "\u001b[1m3×2 DataFrame\u001b[0m\n",
       "\u001b[1m Row \u001b[0m│\u001b[1m name       \u001b[0m\u001b[1m schema                            \u001b[0m\n",
       "     │\u001b[90m String     \u001b[0m\u001b[90m Schema                            \u001b[0m\n",
       "─────┼───────────────────────────────────────────────\n",
       "   1 │ hyph        Tables.Schema:\\n :first   Union{…\n",
       "   2 │ hyphendata  Tables.Schema:\\n :first   Union{…\n",
       "   3 │ words       Tables.Schema:\\n :word  Union{Mi…"
      ]
     },
     "execution_count": 200,
     "metadata": {},
     "output_type": "execute_result"
    }
   ],
   "source": [
    "SQLite.tables(db) |> DataFrame"
   ]
  },
  {
   "cell_type": "markdown",
   "id": "05aaaf68-082c-4984-b3e4-9c611adc7bf5",
   "metadata": {},
   "source": [
    "### Wrapper \n",
    "\n",
    "Ikke noe stort poeng i wrapperen, men den stammer fra Python-koden"
   ]
  },
  {
   "cell_type": "code",
   "execution_count": 37,
   "id": "3b417007-1dc5-4237-b5c8-c46d57c9ebf8",
   "metadata": {
    "tags": []
   },
   "outputs": [
    {
     "data": {
      "text/plain": [
       "query (generic function with 2 methods)"
      ]
     },
     "execution_count": 37,
     "metadata": {},
     "output_type": "execute_result"
    }
   ],
   "source": [
    "function query(db, sql, params=())\n",
    "        data = SQLite.DBInterface.execute(db, sql, params) |> DataFrame\n",
    "    return data\n",
    "end"
   ]
  },
  {
   "cell_type": "markdown",
   "id": "2425435c-62bf-4f1f-9e41-4f0c566fc102",
   "metadata": {},
   "source": [
    "## Halveringsalgoritme med rowid\n",
    "\n",
    "Definerer to funksjoner, en toppnivå, og en som gjør det rekursive (iterative) arbeidet\n",
    "\n",
    "I praksis må toppnivået justere radstart og radslutt"
   ]
  },
  {
   "cell_type": "code",
   "execution_count": 206,
   "id": "1198d369-bc34-4caf-a189-e6a55d3de4c5",
   "metadata": {
    "tags": []
   },
   "outputs": [
    {
     "data": {
      "text/plain": [
       "bisectiterate (generic function with 1 method)"
      ]
     },
     "execution_count": 206,
     "metadata": {},
     "output_type": "execute_result"
    }
   ],
   "source": [
    "function bisectiterate(db, word)\n",
    "    \n",
    "    minrow = query(db, \"select rowid from words order by rowid asc limit 1\")[!,\"rowid\"][1]\n",
    "    maxrow = query(db, \"select rowid from words order by rowid desc limit 1\")[!, \"rowid\"][1]\n",
    "    \n",
    "    return bisect(db, word, minrow, maxrow)\n",
    "end"
   ]
  },
  {
   "cell_type": "markdown",
   "id": "9bd12844-9e14-4829-b5a4-8542e09c657c",
   "metadata": {},
   "source": [
    "## bisect\n",
    "\n",
    "Funksjonen `bisect` går gjennom en sortert tabell uten indeks. Søket starter ved å sjekke midtpunktet på tabellen, hvis det ikke er treff går den til neste halvdel, avhengig av om ordet som er funnet er større eller mindre enn det vi søker etter. Ved treff, scannes tabellen for tilsvarende ord før og etter."
   ]
  },
  {
   "cell_type": "code",
   "execution_count": 208,
   "id": "5c419d43-8a28-430a-b5e0-2fb8ad949b84",
   "metadata": {
    "tags": []
   },
   "outputs": [
    {
     "data": {
      "text/plain": [
       "bisect (generic function with 2 methods)"
      ]
     },
     "execution_count": 208,
     "metadata": {},
     "output_type": "execute_result"
    }
   ],
   "source": [
    "function bisect(db, word, minrow, maxrow)\n",
    "\n",
    "    found = false\n",
    "    from_row = minrow\n",
    "    to_row = maxrow\n",
    "    res = DataFrame()\n",
    "    i = 0\n",
    "    delta = 0\n",
    "    limit = log2(maxrow + 1)\n",
    "    \n",
    "    while !found && (from_row <= to_row) && i < limit\n",
    "        \n",
    "        i += 1\n",
    "        \n",
    "        mid_row = from_row + div(to_row - from_row, 2)\n",
    "        \n",
    "        targeted = query(db, f\"select word, freq, rowid from words where rowid={mid_row}\")\n",
    "        \n",
    "        if cmp(word,targeted[!,\"word\"][1]) == 0\n",
    "            #println(targeted[!,\"word\"][1])\n",
    "            append!(res, targeted)\n",
    "            \n",
    "            found = true\n",
    "\n",
    "            left_candidate = mid_row - 1\n",
    "            l_candidate = query(db, f\"select word, freq, rowid from words where rowid={left_candidate}\")\n",
    "            \n",
    "            while cmp(l_candidate[!,\"word\"][1], word) == 0 && left_candidate >= from_row\n",
    "                append!(res, l_candidate)\n",
    "                left_candidate -= 1\n",
    "                l_candidate = query(db, f\"select word, freq, rowid from words where rowid={left_candidate}\")\n",
    "            end\n",
    "            \n",
    "            right_candidate = mid_row + 1\n",
    "            r_candidate = query(db, f\"select word, freq, rowid from words where rowid={right_candidate}\")\n",
    "            \n",
    "            while cmp(r_candidate[!,\"word\"][1], word) == 0 && right_candidate <= to_row\n",
    "                append!(res, r_candidate)\n",
    "                right_candidate += 1\n",
    "                r_candidate = query(db, f\"select word, freq, rowid from words where rowid={right_candidate}\")\n",
    "            end\n",
    "            \n",
    "        elseif cmp(word, targeted[!,\"word\"][1]) == 1\n",
    "            to_row = mid_row\n",
    "        else\n",
    "            from_row = mid_row \n",
    "        end\n",
    "        \n",
    "    end\n",
    "    return res\n",
    "end"
   ]
  },
  {
   "cell_type": "markdown",
   "id": "efd4e6c0-51b8-487c-b35e-b4a027791281",
   "metadata": {},
   "source": [
    "# Timing\n",
    "\n",
    "Såvidt jeg kan se klarer Julia å henge med på SQLite. 10 ganger raskere enn Python. Men for full tablescan er hastigheten den samme (ca. 12 sek) så det er når det går fort at Julia skinner. \n",
    "\n",
    "## Bisect"
   ]
  },
  {
   "cell_type": "code",
   "execution_count": 211,
   "id": "14e30d39-3d5d-4254-a4b6-a000fa960cba",
   "metadata": {
    "tags": []
   },
   "outputs": [
    {
     "name": "stdout",
     "output_type": "stream",
     "text": [
      "  0.001429 seconds (3.39 k allocations: 171.688 KiB)\n"
     ]
    },
    {
     "data": {
      "text/html": [
       "<div><div style = \"float: left;\"><span>5×3 DataFrame</span></div><div style = \"clear: both;\"></div></div><div class = \"data-frame\" style = \"overflow-x: scroll;\"><table class = \"data-frame\" style = \"margin-bottom: 6px;\"><thead><tr class = \"header\"><th class = \"rowNumber\" style = \"font-weight: bold; text-align: right;\">Row</th><th style = \"text-align: left;\">word</th><th style = \"text-align: left;\">freq</th><th style = \"text-align: left;\">rowid</th></tr><tr class = \"subheader headerLastRow\"><th class = \"rowNumber\" style = \"font-weight: bold; text-align: right;\"></th><th title = \"String\" style = \"text-align: left;\">String</th><th title = \"Int64\" style = \"text-align: left;\">Int64</th><th title = \"Int64\" style = \"text-align: left;\">Int64</th></tr></thead><tbody><tr><td class = \"rowNumber\" style = \"font-weight: bold; text-align: right;\">1</td><td style = \"text-align: left;\">vårrengjøring</td><td style = \"text-align: right;\">331</td><td style = \"text-align: right;\">11309440</td></tr><tr><td class = \"rowNumber\" style = \"font-weight: bold; text-align: right;\">2</td><td style = \"text-align: left;\">vårrengjøring</td><td style = \"text-align: right;\">644</td><td style = \"text-align: right;\">11309439</td></tr><tr><td class = \"rowNumber\" style = \"font-weight: bold; text-align: right;\">3</td><td style = \"text-align: left;\">vårrengjøring</td><td style = \"text-align: right;\">298</td><td style = \"text-align: right;\">11309441</td></tr><tr><td class = \"rowNumber\" style = \"font-weight: bold; text-align: right;\">4</td><td style = \"text-align: left;\">vårrengjøring</td><td style = \"text-align: right;\">60</td><td style = \"text-align: right;\">11309442</td></tr><tr><td class = \"rowNumber\" style = \"font-weight: bold; text-align: right;\">5</td><td style = \"text-align: left;\">vårrengjøring</td><td style = \"text-align: right;\">25</td><td style = \"text-align: right;\">11309443</td></tr></tbody></table></div>"
      ],
      "text/latex": [
       "\\begin{tabular}{r|ccc}\n",
       "\t& word & freq & rowid\\\\\n",
       "\t\\hline\n",
       "\t& String & Int64 & Int64\\\\\n",
       "\t\\hline\n",
       "\t1 & vårrengjøring & 331 & 11309440 \\\\\n",
       "\t2 & vårrengjøring & 644 & 11309439 \\\\\n",
       "\t3 & vårrengjøring & 298 & 11309441 \\\\\n",
       "\t4 & vårrengjøring & 60 & 11309442 \\\\\n",
       "\t5 & vårrengjøring & 25 & 11309443 \\\\\n",
       "\\end{tabular}\n"
      ],
      "text/plain": [
       "\u001b[1m5×3 DataFrame\u001b[0m\n",
       "\u001b[1m Row \u001b[0m│\u001b[1m word          \u001b[0m\u001b[1m freq  \u001b[0m\u001b[1m rowid    \u001b[0m\n",
       "     │\u001b[90m String        \u001b[0m\u001b[90m Int64 \u001b[0m\u001b[90m Int64    \u001b[0m\n",
       "─────┼────────────────────────────────\n",
       "   1 │ vårrengjøring    331  11309440\n",
       "   2 │ vårrengjøring    644  11309439\n",
       "   3 │ vårrengjøring    298  11309441\n",
       "   4 │ vårrengjøring     60  11309442\n",
       "   5 │ vårrengjøring     25  11309443"
      ]
     },
     "execution_count": 211,
     "metadata": {},
     "output_type": "execute_result"
    }
   ],
   "source": [
    "@time begin\n",
    "    bisectiterate(db, \"vårrengjøring\")\n",
    "end"
   ]
  },
  {
   "cell_type": "markdown",
   "id": "381ac78a-690f-4fa5-be3a-1422d3a361d6",
   "metadata": {},
   "source": [
    "## Full table-scan"
   ]
  },
  {
   "cell_type": "code",
   "execution_count": 205,
   "id": "589b299c-5dc1-4a62-afaf-852dcbe33590",
   "metadata": {
    "tags": []
   },
   "outputs": [
    {
     "name": "stdout",
     "output_type": "stream",
     "text": [
      " 12.777626 seconds (168 allocations: 8.297 KiB)\n"
     ]
    },
    {
     "data": {
      "text/html": [
       "<div><div style = \"float: left;\"><span>12×2 DataFrame</span></div><div style = \"clear: both;\"></div></div><div class = \"data-frame\" style = \"overflow-x: scroll;\"><table class = \"data-frame\" style = \"margin-bottom: 6px;\"><thead><tr class = \"header\"><th class = \"rowNumber\" style = \"font-weight: bold; text-align: right;\">Row</th><th style = \"text-align: left;\">word</th><th style = \"text-align: left;\">freq</th></tr><tr class = \"subheader headerLastRow\"><th class = \"rowNumber\" style = \"font-weight: bold; text-align: right;\"></th><th title = \"String\" style = \"text-align: left;\">String</th><th title = \"Int64\" style = \"text-align: left;\">Int64</th></tr></thead><tbody><tr><td class = \"rowNumber\" style = \"font-weight: bold; text-align: right;\">1</td><td style = \"text-align: left;\">Nasjonalbiblioteket</td><td style = \"text-align: right;\">2276</td></tr><tr><td class = \"rowNumber\" style = \"font-weight: bold; text-align: right;\">2</td><td style = \"text-align: left;\">Nasjonalbiblioteket</td><td style = \"text-align: right;\">1816</td></tr><tr><td class = \"rowNumber\" style = \"font-weight: bold; text-align: right;\">3</td><td style = \"text-align: left;\">Nasjonalbiblioteket</td><td style = \"text-align: right;\">1372</td></tr><tr><td class = \"rowNumber\" style = \"font-weight: bold; text-align: right;\">4</td><td style = \"text-align: left;\">Nasjonalbiblioteket</td><td style = \"text-align: right;\">1357</td></tr><tr><td class = \"rowNumber\" style = \"font-weight: bold; text-align: right;\">5</td><td style = \"text-align: left;\">Nasjonalbiblioteket</td><td style = \"text-align: right;\">1301</td></tr><tr><td class = \"rowNumber\" style = \"font-weight: bold; text-align: right;\">6</td><td style = \"text-align: left;\">Nasjonalbiblioteket</td><td style = \"text-align: right;\">1108</td></tr><tr><td class = \"rowNumber\" style = \"font-weight: bold; text-align: right;\">7</td><td style = \"text-align: left;\">Nasjonalbiblioteket</td><td style = \"text-align: right;\">419</td></tr><tr><td class = \"rowNumber\" style = \"font-weight: bold; text-align: right;\">8</td><td style = \"text-align: left;\">Nasjonalbiblioteket</td><td style = \"text-align: right;\">398</td></tr><tr><td class = \"rowNumber\" style = \"font-weight: bold; text-align: right;\">9</td><td style = \"text-align: left;\">Nasjonalbiblioteket</td><td style = \"text-align: right;\">39</td></tr><tr><td class = \"rowNumber\" style = \"font-weight: bold; text-align: right;\">10</td><td style = \"text-align: left;\">Nasjonalbiblioteket</td><td style = \"text-align: right;\">14</td></tr><tr><td class = \"rowNumber\" style = \"font-weight: bold; text-align: right;\">11</td><td style = \"text-align: left;\">Nasjonalbiblioteket</td><td style = \"text-align: right;\">12</td></tr><tr><td class = \"rowNumber\" style = \"font-weight: bold; text-align: right;\">12</td><td style = \"text-align: left;\">Nasjonalbiblioteket</td><td style = \"text-align: right;\">2</td></tr></tbody></table></div>"
      ],
      "text/latex": [
       "\\begin{tabular}{r|cc}\n",
       "\t& word & freq\\\\\n",
       "\t\\hline\n",
       "\t& String & Int64\\\\\n",
       "\t\\hline\n",
       "\t1 & Nasjonalbiblioteket & 2276 \\\\\n",
       "\t2 & Nasjonalbiblioteket & 1816 \\\\\n",
       "\t3 & Nasjonalbiblioteket & 1372 \\\\\n",
       "\t4 & Nasjonalbiblioteket & 1357 \\\\\n",
       "\t5 & Nasjonalbiblioteket & 1301 \\\\\n",
       "\t6 & Nasjonalbiblioteket & 1108 \\\\\n",
       "\t7 & Nasjonalbiblioteket & 419 \\\\\n",
       "\t8 & Nasjonalbiblioteket & 398 \\\\\n",
       "\t9 & Nasjonalbiblioteket & 39 \\\\\n",
       "\t10 & Nasjonalbiblioteket & 14 \\\\\n",
       "\t11 & Nasjonalbiblioteket & 12 \\\\\n",
       "\t12 & Nasjonalbiblioteket & 2 \\\\\n",
       "\\end{tabular}\n"
      ],
      "text/plain": [
       "\u001b[1m12×2 DataFrame\u001b[0m\n",
       "\u001b[1m Row \u001b[0m│\u001b[1m word                \u001b[0m\u001b[1m freq  \u001b[0m\n",
       "     │\u001b[90m String              \u001b[0m\u001b[90m Int64 \u001b[0m\n",
       "─────┼────────────────────────────\n",
       "   1 │ Nasjonalbiblioteket   2276\n",
       "   2 │ Nasjonalbiblioteket   1816\n",
       "   3 │ Nasjonalbiblioteket   1372\n",
       "   4 │ Nasjonalbiblioteket   1357\n",
       "   5 │ Nasjonalbiblioteket   1301\n",
       "   6 │ Nasjonalbiblioteket   1108\n",
       "   7 │ Nasjonalbiblioteket    419\n",
       "   8 │ Nasjonalbiblioteket    398\n",
       "   9 │ Nasjonalbiblioteket     39\n",
       "  10 │ Nasjonalbiblioteket     14\n",
       "  11 │ Nasjonalbiblioteket     12\n",
       "  12 │ Nasjonalbiblioteket      2"
      ]
     },
     "execution_count": 205,
     "metadata": {},
     "output_type": "execute_result"
    }
   ],
   "source": [
    "@time begin\n",
    "    query(db, \"select word,freq from words where word = 'Nasjonalbiblioteket' \")\n",
    "end"
   ]
  },
  {
   "cell_type": "markdown",
   "id": "27e3d76c-2b6e-45d5-a3c7-45de16d24260",
   "metadata": {},
   "source": [
    "## Indekserte data\n",
    "\n",
    "Her er tiden det tar å hente ut de indekserte dataene, som er ca 10 gangen igjen, tilsvarende som for Python, men Python er 10 ganger tregere. Forholdet mellom Pythons bisect og indeksert er røfflig den samme"
   ]
  },
  {
   "cell_type": "code",
   "execution_count": 203,
   "id": "e61d9614-603a-40e8-85e6-6df0b15a722e",
   "metadata": {
    "tags": []
   },
   "outputs": [
    {
     "name": "stdout",
     "output_type": "stream",
     "text": [
      "  0.000246 seconds (168 allocations: 8.297 KiB)\n"
     ]
    },
    {
     "data": {
      "text/html": [
       "<div><div style = \"float: left;\"><span>12×2 DataFrame</span></div><div style = \"clear: both;\"></div></div><div class = \"data-frame\" style = \"overflow-x: scroll;\"><table class = \"data-frame\" style = \"margin-bottom: 6px;\"><thead><tr class = \"header\"><th class = \"rowNumber\" style = \"font-weight: bold; text-align: right;\">Row</th><th style = \"text-align: left;\">word</th><th style = \"text-align: left;\">freq</th></tr><tr class = \"subheader headerLastRow\"><th class = \"rowNumber\" style = \"font-weight: bold; text-align: right;\"></th><th title = \"String\" style = \"text-align: left;\">String</th><th title = \"Int64\" style = \"text-align: left;\">Int64</th></tr></thead><tbody><tr><td class = \"rowNumber\" style = \"font-weight: bold; text-align: right;\">1</td><td style = \"text-align: left;\">Nasjonalbiblioteket</td><td style = \"text-align: right;\">2</td></tr><tr><td class = \"rowNumber\" style = \"font-weight: bold; text-align: right;\">2</td><td style = \"text-align: left;\">Nasjonalbiblioteket</td><td style = \"text-align: right;\">12</td></tr><tr><td class = \"rowNumber\" style = \"font-weight: bold; text-align: right;\">3</td><td style = \"text-align: left;\">Nasjonalbiblioteket</td><td style = \"text-align: right;\">14</td></tr><tr><td class = \"rowNumber\" style = \"font-weight: bold; text-align: right;\">4</td><td style = \"text-align: left;\">Nasjonalbiblioteket</td><td style = \"text-align: right;\">39</td></tr><tr><td class = \"rowNumber\" style = \"font-weight: bold; text-align: right;\">5</td><td style = \"text-align: left;\">Nasjonalbiblioteket</td><td style = \"text-align: right;\">398</td></tr><tr><td class = \"rowNumber\" style = \"font-weight: bold; text-align: right;\">6</td><td style = \"text-align: left;\">Nasjonalbiblioteket</td><td style = \"text-align: right;\">419</td></tr><tr><td class = \"rowNumber\" style = \"font-weight: bold; text-align: right;\">7</td><td style = \"text-align: left;\">Nasjonalbiblioteket</td><td style = \"text-align: right;\">1108</td></tr><tr><td class = \"rowNumber\" style = \"font-weight: bold; text-align: right;\">8</td><td style = \"text-align: left;\">Nasjonalbiblioteket</td><td style = \"text-align: right;\">1301</td></tr><tr><td class = \"rowNumber\" style = \"font-weight: bold; text-align: right;\">9</td><td style = \"text-align: left;\">Nasjonalbiblioteket</td><td style = \"text-align: right;\">1357</td></tr><tr><td class = \"rowNumber\" style = \"font-weight: bold; text-align: right;\">10</td><td style = \"text-align: left;\">Nasjonalbiblioteket</td><td style = \"text-align: right;\">1372</td></tr><tr><td class = \"rowNumber\" style = \"font-weight: bold; text-align: right;\">11</td><td style = \"text-align: left;\">Nasjonalbiblioteket</td><td style = \"text-align: right;\">1816</td></tr><tr><td class = \"rowNumber\" style = \"font-weight: bold; text-align: right;\">12</td><td style = \"text-align: left;\">Nasjonalbiblioteket</td><td style = \"text-align: right;\">2276</td></tr></tbody></table></div>"
      ],
      "text/latex": [
       "\\begin{tabular}{r|cc}\n",
       "\t& word & freq\\\\\n",
       "\t\\hline\n",
       "\t& String & Int64\\\\\n",
       "\t\\hline\n",
       "\t1 & Nasjonalbiblioteket & 2 \\\\\n",
       "\t2 & Nasjonalbiblioteket & 12 \\\\\n",
       "\t3 & Nasjonalbiblioteket & 14 \\\\\n",
       "\t4 & Nasjonalbiblioteket & 39 \\\\\n",
       "\t5 & Nasjonalbiblioteket & 398 \\\\\n",
       "\t6 & Nasjonalbiblioteket & 419 \\\\\n",
       "\t7 & Nasjonalbiblioteket & 1108 \\\\\n",
       "\t8 & Nasjonalbiblioteket & 1301 \\\\\n",
       "\t9 & Nasjonalbiblioteket & 1357 \\\\\n",
       "\t10 & Nasjonalbiblioteket & 1372 \\\\\n",
       "\t11 & Nasjonalbiblioteket & 1816 \\\\\n",
       "\t12 & Nasjonalbiblioteket & 2276 \\\\\n",
       "\\end{tabular}\n"
      ],
      "text/plain": [
       "\u001b[1m12×2 DataFrame\u001b[0m\n",
       "\u001b[1m Row \u001b[0m│\u001b[1m word                \u001b[0m\u001b[1m freq  \u001b[0m\n",
       "     │\u001b[90m String              \u001b[0m\u001b[90m Int64 \u001b[0m\n",
       "─────┼────────────────────────────\n",
       "   1 │ Nasjonalbiblioteket      2\n",
       "   2 │ Nasjonalbiblioteket     12\n",
       "   3 │ Nasjonalbiblioteket     14\n",
       "   4 │ Nasjonalbiblioteket     39\n",
       "   5 │ Nasjonalbiblioteket    398\n",
       "   6 │ Nasjonalbiblioteket    419\n",
       "   7 │ Nasjonalbiblioteket   1108\n",
       "   8 │ Nasjonalbiblioteket   1301\n",
       "   9 │ Nasjonalbiblioteket   1357\n",
       "  10 │ Nasjonalbiblioteket   1372\n",
       "  11 │ Nasjonalbiblioteket   1816\n",
       "  12 │ Nasjonalbiblioteket   2276"
      ]
     },
     "execution_count": 203,
     "metadata": {},
     "output_type": "execute_result"
    }
   ],
   "source": [
    "@time begin\n",
    "    query(db, \"select word, freq from hyphendata where word = 'Nasjonalbiblioteket'\")\n",
    "end"
   ]
  }
 ],
 "metadata": {
  "kernelspec": {
   "display_name": "Julia 1.8.5",
   "language": "julia",
   "name": "julia-1.8"
  },
  "language_info": {
   "file_extension": ".jl",
   "mimetype": "application/julia",
   "name": "julia",
   "version": "1.8.5"
  }
 },
 "nbformat": 4,
 "nbformat_minor": 5
}
