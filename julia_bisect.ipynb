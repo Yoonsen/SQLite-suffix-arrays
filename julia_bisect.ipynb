{
 "cells": [
  {
   "cell_type": "code",
   "execution_count": 13,
   "id": "13ab1e5d-8354-4573-8229-7825ba10a520",
   "metadata": {
    "tags": []
   },
   "outputs": [
    {
     "data": {
      "text/plain": [
       "\"/mnt/disk1/Github/total.db\""
      ]
     },
     "execution_count": 13,
     "metadata": {},
     "output_type": "execute_result"
    }
   ],
   "source": [
    "db_file = \"/mnt/disk1/Github/total.db\""
   ]
  },
  {
   "cell_type": "code",
   "execution_count": 56,
   "id": "30c38223-d173-4470-abe4-af07dc077ed4",
   "metadata": {
    "tags": []
   },
   "outputs": [],
   "source": [
    "using SQLite;\n",
    "using DataFrames;\n",
    "using PyFormattedStrings;"
   ]
  },
  {
   "cell_type": "code",
   "execution_count": 16,
   "id": "eda2b39a-f0da-4099-9fc6-070003037702",
   "metadata": {
    "tags": []
   },
   "outputs": [
    {
     "data": {
      "text/plain": [
       "SQLite.DB(\"/mnt/disk1/Github/total.db\")"
      ]
     },
     "execution_count": 16,
     "metadata": {},
     "output_type": "execute_result"
    }
   ],
   "source": [
    "db = SQLite.DB(db_file)"
   ]
  },
  {
   "cell_type": "code",
   "execution_count": 17,
   "id": "e2b01b12-a454-4de7-bc22-72bcee343af0",
   "metadata": {
    "tags": []
   },
   "outputs": [
    {
     "data": {
      "text/plain": [
       "3-element Vector{SQLite.DBTable}:\n",
       " SQLite.DBTable(\"hyph\", Tables.Schema:\n",
       " :first   Union{Missing, String}\n",
       " :second  Union{Missing, String})\n",
       " SQLite.DBTable(\"hyphendata\", Tables.Schema:\n",
       " :first   Union{Missing, String}\n",
       " :second  Union{Missing, String}\n",
       " :word    Union{Missing, String}\n",
       " :freq    Union{Missing, Int64})\n",
       " SQLite.DBTable(\"words\", Tables.Schema:\n",
       " :word  Union{Missing, String}\n",
       " :freq  Union{Missing, Int64})"
      ]
     },
     "execution_count": 17,
     "metadata": {},
     "output_type": "execute_result"
    }
   ],
   "source": [
    "SQLite.tables(db)"
   ]
  },
  {
   "cell_type": "code",
   "execution_count": 37,
   "id": "3b417007-1dc5-4237-b5c8-c46d57c9ebf8",
   "metadata": {
    "tags": []
   },
   "outputs": [
    {
     "data": {
      "text/plain": [
       "query (generic function with 2 methods)"
      ]
     },
     "execution_count": 37,
     "metadata": {},
     "output_type": "execute_result"
    }
   ],
   "source": [
    "function query(db, sql, params=())\n",
    "        data = SQLite.DBInterface.execute(db, sql, params) |> DataFrame\n",
    "    return data\n",
    "end"
   ]
  },
  {
   "cell_type": "code",
   "execution_count": 42,
   "id": "e61d9614-603a-40e8-85e6-6df0b15a722e",
   "metadata": {
    "tags": []
   },
   "outputs": [
    {
     "name": "stdout",
     "output_type": "stream",
     "text": [
      "  0.000347 seconds (273 allocations: 12.805 KiB)\n"
     ]
    },
    {
     "data": {
      "text/html": [
       "<div><div style = \"float: left;\"><span>12×4 DataFrame</span></div><div style = \"clear: both;\"></div></div><div class = \"data-frame\" style = \"overflow-x: scroll;\"><table class = \"data-frame\" style = \"margin-bottom: 6px;\"><thead><tr class = \"header\"><th class = \"rowNumber\" style = \"font-weight: bold; text-align: right;\">Row</th><th style = \"text-align: left;\">first</th><th style = \"text-align: left;\">second</th><th style = \"text-align: left;\">word</th><th style = \"text-align: left;\">freq</th></tr><tr class = \"subheader headerLastRow\"><th class = \"rowNumber\" style = \"font-weight: bold; text-align: right;\"></th><th title = \"String\" style = \"text-align: left;\">String</th><th title = \"String\" style = \"text-align: left;\">String</th><th title = \"String\" style = \"text-align: left;\">String</th><th title = \"Int64\" style = \"text-align: left;\">Int64</th></tr></thead><tbody><tr><td class = \"rowNumber\" style = \"font-weight: bold; text-align: right;\">1</td><td style = \"text-align: left;\">Nasjona</td><td style = \"text-align: left;\">lbiblioteket</td><td style = \"text-align: left;\">Nasjonalbiblioteket</td><td style = \"text-align: right;\">2</td></tr><tr><td class = \"rowNumber\" style = \"font-weight: bold; text-align: right;\">2</td><td style = \"text-align: left;\">Nasjonalbibliotek</td><td style = \"text-align: left;\">et</td><td style = \"text-align: left;\">Nasjonalbiblioteket</td><td style = \"text-align: right;\">12</td></tr><tr><td class = \"rowNumber\" style = \"font-weight: bold; text-align: right;\">3</td><td style = \"text-align: left;\">Nasjon</td><td style = \"text-align: left;\">albiblioteket</td><td style = \"text-align: left;\">Nasjonalbiblioteket</td><td style = \"text-align: right;\">14</td></tr><tr><td class = \"rowNumber\" style = \"font-weight: bold; text-align: right;\">4</td><td style = \"text-align: left;\">Nas</td><td style = \"text-align: left;\">jonalbiblioteket</td><td style = \"text-align: left;\">Nasjonalbiblioteket</td><td style = \"text-align: right;\">39</td></tr><tr><td class = \"rowNumber\" style = \"font-weight: bold; text-align: right;\">5</td><td style = \"text-align: left;\">Nasjonalbib</td><td style = \"text-align: left;\">lioteket</td><td style = \"text-align: left;\">Nasjonalbiblioteket</td><td style = \"text-align: right;\">398</td></tr><tr><td class = \"rowNumber\" style = \"font-weight: bold; text-align: right;\">6</td><td style = \"text-align: left;\">Nasjonalbibli</td><td style = \"text-align: left;\">oteket</td><td style = \"text-align: left;\">Nasjonalbiblioteket</td><td style = \"text-align: right;\">419</td></tr><tr><td class = \"rowNumber\" style = \"font-weight: bold; text-align: right;\">7</td><td style = \"text-align: left;\">Na</td><td style = \"text-align: left;\">sjonalbiblioteket</td><td style = \"text-align: left;\">Nasjonalbiblioteket</td><td style = \"text-align: right;\">1108</td></tr><tr><td class = \"rowNumber\" style = \"font-weight: bold; text-align: right;\">8</td><td style = \"text-align: left;\">Nasjonalbi</td><td style = \"text-align: left;\">blioteket</td><td style = \"text-align: left;\">Nasjonalbiblioteket</td><td style = \"text-align: right;\">1301</td></tr><tr><td class = \"rowNumber\" style = \"font-weight: bold; text-align: right;\">9</td><td style = \"text-align: left;\">Nasjonalbibliote</td><td style = \"text-align: left;\">ket</td><td style = \"text-align: left;\">Nasjonalbiblioteket</td><td style = \"text-align: right;\">1357</td></tr><tr><td class = \"rowNumber\" style = \"font-weight: bold; text-align: right;\">10</td><td style = \"text-align: left;\">Nasjonalbiblio</td><td style = \"text-align: left;\">teket</td><td style = \"text-align: left;\">Nasjonalbiblioteket</td><td style = \"text-align: right;\">1372</td></tr><tr><td class = \"rowNumber\" style = \"font-weight: bold; text-align: right;\">11</td><td style = \"text-align: left;\">Nasjo</td><td style = \"text-align: left;\">nalbiblioteket</td><td style = \"text-align: left;\">Nasjonalbiblioteket</td><td style = \"text-align: right;\">1816</td></tr><tr><td class = \"rowNumber\" style = \"font-weight: bold; text-align: right;\">12</td><td style = \"text-align: left;\">Nasjonal</td><td style = \"text-align: left;\">biblioteket</td><td style = \"text-align: left;\">Nasjonalbiblioteket</td><td style = \"text-align: right;\">2276</td></tr></tbody></table></div>"
      ],
      "text/latex": [
       "\\begin{tabular}{r|cccc}\n",
       "\t& first & second & word & freq\\\\\n",
       "\t\\hline\n",
       "\t& String & String & String & Int64\\\\\n",
       "\t\\hline\n",
       "\t1 & Nasjona & lbiblioteket & Nasjonalbiblioteket & 2 \\\\\n",
       "\t2 & Nasjonalbibliotek & et & Nasjonalbiblioteket & 12 \\\\\n",
       "\t3 & Nasjon & albiblioteket & Nasjonalbiblioteket & 14 \\\\\n",
       "\t4 & Nas & jonalbiblioteket & Nasjonalbiblioteket & 39 \\\\\n",
       "\t5 & Nasjonalbib & lioteket & Nasjonalbiblioteket & 398 \\\\\n",
       "\t6 & Nasjonalbibli & oteket & Nasjonalbiblioteket & 419 \\\\\n",
       "\t7 & Na & sjonalbiblioteket & Nasjonalbiblioteket & 1108 \\\\\n",
       "\t8 & Nasjonalbi & blioteket & Nasjonalbiblioteket & 1301 \\\\\n",
       "\t9 & Nasjonalbibliote & ket & Nasjonalbiblioteket & 1357 \\\\\n",
       "\t10 & Nasjonalbiblio & teket & Nasjonalbiblioteket & 1372 \\\\\n",
       "\t11 & Nasjo & nalbiblioteket & Nasjonalbiblioteket & 1816 \\\\\n",
       "\t12 & Nasjonal & biblioteket & Nasjonalbiblioteket & 2276 \\\\\n",
       "\\end{tabular}\n"
      ],
      "text/plain": [
       "\u001b[1m12×4 DataFrame\u001b[0m\n",
       "\u001b[1m Row \u001b[0m│\u001b[1m first             \u001b[0m\u001b[1m second            \u001b[0m\u001b[1m word                \u001b[0m\u001b[1m freq  \u001b[0m\n",
       "     │\u001b[90m String            \u001b[0m\u001b[90m String            \u001b[0m\u001b[90m String              \u001b[0m\u001b[90m Int64 \u001b[0m\n",
       "─────┼──────────────────────────────────────────────────────────────────\n",
       "   1 │ Nasjona            lbiblioteket       Nasjonalbiblioteket      2\n",
       "   2 │ Nasjonalbibliotek  et                 Nasjonalbiblioteket     12\n",
       "   3 │ Nasjon             albiblioteket      Nasjonalbiblioteket     14\n",
       "   4 │ Nas                jonalbiblioteket   Nasjonalbiblioteket     39\n",
       "   5 │ Nasjonalbib        lioteket           Nasjonalbiblioteket    398\n",
       "   6 │ Nasjonalbibli      oteket             Nasjonalbiblioteket    419\n",
       "   7 │ Na                 sjonalbiblioteket  Nasjonalbiblioteket   1108\n",
       "   8 │ Nasjonalbi         blioteket          Nasjonalbiblioteket   1301\n",
       "   9 │ Nasjonalbibliote   ket                Nasjonalbiblioteket   1357\n",
       "  10 │ Nasjonalbiblio     teket              Nasjonalbiblioteket   1372\n",
       "  11 │ Nasjo              nalbiblioteket     Nasjonalbiblioteket   1816\n",
       "  12 │ Nasjonal           biblioteket        Nasjonalbiblioteket   2276"
      ]
     },
     "execution_count": 42,
     "metadata": {},
     "output_type": "execute_result"
    }
   ],
   "source": [
    "@time begin\n",
    "    query(db, \"select * from hyphendata where word = 'Nasjonalbiblioteket'\")\n",
    "end"
   ]
  },
  {
   "cell_type": "code",
   "execution_count": 55,
   "id": "6155ea72-2815-4cf5-92bc-7352116ed2b8",
   "metadata": {
    "tags": []
   },
   "outputs": [
    {
     "data": {
      "text/plain": [
       "223039157"
      ]
     },
     "execution_count": 55,
     "metadata": {},
     "output_type": "execute_result"
    }
   ],
   "source": [
    "query(db, \"select rowid from words order by rowid desc limit 1\")[!,\"rowid\"][1]"
   ]
  },
  {
   "cell_type": "code",
   "execution_count": 59,
   "id": "1198d369-bc34-4caf-a189-e6a55d3de4c5",
   "metadata": {
    "tags": []
   },
   "outputs": [
    {
     "data": {
      "text/plain": [
       "bisectiterate (generic function with 1 method)"
      ]
     },
     "execution_count": 59,
     "metadata": {},
     "output_type": "execute_result"
    }
   ],
   "source": [
    "function bisectiterate(db, word)\n",
    "    \n",
    "    minrow = query(db, \"select rowid from words order by rowid asc limit 1\")[!,\"rowid\"][1]\n",
    "    maxrow = query(db, \"select rowid from words order by rowid desc limit 1\")[!, \"rowid\"][1]\n",
    "    \n",
    "    return bisect(db, word, minrow, maxrow)\n",
    "end"
   ]
  },
  {
   "cell_type": "code",
   "execution_count": 134,
   "id": "5c419d43-8a28-430a-b5e0-2fb8ad949b84",
   "metadata": {
    "tags": []
   },
   "outputs": [
    {
     "ename": "LoadError",
     "evalue": "syntax: \"while\" at In[134]:28 expected \"end\", got \"leftcandidate\"",
     "output_type": "error",
     "traceback": [
      "syntax: \"while\" at In[134]:28 expected \"end\", got \"leftcandidate\"",
      "",
      "Stacktrace:",
      " [1] top-level scope",
      "   @ In[134]:28"
     ]
    }
   ],
   "source": [
    "function bisect(db, word, minrow, maxrow)\n",
    "\n",
    "    found = false\n",
    "    fromrow = minrow\n",
    "    torow = maxrow\n",
    "    res = []\n",
    "    i = 0\n",
    "    delta = 0\n",
    "    limit = log2(maxrow + 1)\n",
    "    \n",
    "    while !found && (fromrow <= torow) && i < limit\n",
    "        \n",
    "        i += 1\n",
    "        \n",
    "        midrow = fromrow + div(torow - fromrow, 2)\n",
    "        \n",
    "        targeted = query(db, f\"select word, freq, rowid from words where rowid={midrow}\")[!,\"rowid\"][1]\n",
    "    \n",
    "        if word == targeted[1]\n",
    "            \n",
    "            append!(res, targeted)\n",
    "            \n",
    "            found = true\n",
    "\n",
    "            leftcandidate = midrow - 1\n",
    "            lcandidate = query(db, f\"select word, freq, rowid from words where rowid={leftcandidate}\")[!,\"rowid\"][1]\n",
    "            \n",
    "            while lcandidate[1] == word and leftcandidate >= fromrow\n",
    "                append!(res, lcandidate)\n",
    "                leftcandidate -= 1\n",
    "                lcandidate = query(db, f\"select word, freq, rowid from words where rowid={leftcandidate}\")[!,\"rowid\"][1]\n",
    "            end\n",
    "            \n",
    "            rightcandidate = midrow + 1\n",
    "            rcandidate = query(db, f\"select word, freq, rowid from words where rowid={rightcandidate}\")[!,\"rowid\"][1]\n",
    "            \n",
    "            while rcandidate[1] == word and rightcandidate <= torow\n",
    "                append!(res, rcandidate)\n",
    "                rightcandidate += 1\n",
    "                rcandidate = query(db, f\"select word, freq, rowid from words where rowid={rightcandidate}\")[!,\"rowid\"][1]\n",
    "            end\n",
    "            \n",
    "        elseif word > targeted[1]\n",
    "            torow = midrow\n",
    "        else\n",
    "            fromrow = midrow \n",
    "        end\n",
    "        \n",
    "    end\n",
    "    return res\n",
    "end"
   ]
  },
  {
   "cell_type": "code",
   "execution_count": 73,
   "id": "903d7437-c7d3-4a00-8e04-0591dad42276",
   "metadata": {
    "tags": []
   },
   "outputs": [
    {
     "data": {
      "text/plain": [
       "1"
      ]
     },
     "execution_count": 73,
     "metadata": {},
     "output_type": "execute_result"
    }
   ],
   "source": [
    "div(3,2)"
   ]
  },
  {
   "cell_type": "code",
   "execution_count": 4,
   "id": "7c4bbbdc-3e0e-46ec-9657-a36888e70e34",
   "metadata": {
    "tags": []
   },
   "outputs": [
    {
     "data": {
      "text/plain": [
       "f (generic function with 1 method)"
      ]
     },
     "execution_count": 4,
     "metadata": {},
     "output_type": "execute_result"
    }
   ],
   "source": [
    "function f(a, b)\n",
    "    return a + b\n",
    "end"
   ]
  },
  {
   "cell_type": "code",
   "execution_count": 9,
   "id": "335ea762-625c-4ea0-9f94-b6b252921cbb",
   "metadata": {
    "tags": []
   },
   "outputs": [
    {
     "name": "stdout",
     "output_type": "stream",
     "text": [
      "  0.000001 seconds\n"
     ]
    },
    {
     "data": {
      "text/plain": [
       "5"
      ]
     },
     "execution_count": 9,
     "metadata": {},
     "output_type": "execute_result"
    }
   ],
   "source": [
    "@time begin\n",
    "f(2,3)\n",
    "end"
   ]
  },
  {
   "cell_type": "code",
   "execution_count": 116,
   "id": "9d7202d5-32c5-4764-8f92-575b5031e59f",
   "metadata": {
    "tags": []
   },
   "outputs": [],
   "source": [
    "#r = [\"a\",\"b\"]\n",
    "x = 3\n",
    "y = 4\n",
    "if x < 5 && y == \"a\"\n",
    "    append!(r, \"a\")\n",
    "    found = true\n",
    "    \n",
    "end"
   ]
  },
  {
   "cell_type": "code",
   "execution_count": 117,
   "id": "91abdc44-4464-4bde-8667-5e68926d0611",
   "metadata": {
    "tags": []
   },
   "outputs": [
    {
     "data": {
      "text/plain": [
       "2-element Vector{String}:\n",
       " \"a\"\n",
       " \"b\""
      ]
     },
     "execution_count": 117,
     "metadata": {},
     "output_type": "execute_result"
    }
   ],
   "source": [
    "r"
   ]
  },
  {
   "cell_type": "code",
   "execution_count": 118,
   "id": "c217dd89-c20c-48a9-b173-df8689473a62",
   "metadata": {
    "tags": []
   },
   "outputs": [
    {
     "data": {
      "text/plain": [
       "\"here is b and 3\""
      ]
     },
     "execution_count": 118,
     "metadata": {},
     "output_type": "execute_result"
    }
   ],
   "source": [
    "f\"here is {r[2]} and {x}\""
   ]
  },
  {
   "cell_type": "code",
   "execution_count": 132,
   "id": "2e7a0a42-ec7a-44b0-96c3-cf6c455fac2b",
   "metadata": {
    "tags": []
   },
   "outputs": [
    {
     "data": {
      "text/plain": [
       "200030000"
      ]
     },
     "execution_count": 132,
     "metadata": {},
     "output_type": "execute_result"
    }
   ],
   "source": [
    "fromrow=1; torow=200030000"
   ]
  },
  {
   "cell_type": "code",
   "execution_count": 133,
   "id": "c662c64b-01da-4689-8cb4-4882f92a014a",
   "metadata": {
    "tags": []
   },
   "outputs": [
    {
     "name": "stdout",
     "output_type": "stream",
     "text": [
      "100014999\n",
      "Any[\"sove\", \"hm\"]\n"
     ]
    }
   ],
   "source": [
    "word = \"sove\"\n",
    "midrow = 1 + div(torow - fromrow, 2)\n",
    "targeted = query(db, f\"select word, freq, rowid from words where rowid={midrow}\")[!,\"rowid\"][1]\n",
    "res = []\n",
    "if word == targeted[1]\n",
    "\n",
    "    append!(res, targeted)\n",
    "else\n",
    "    append!(res, [word])\n",
    "    append!(res, [\"hm\"])\n",
    "    leftcandidate = midrow - 1\n",
    "    lcandidate = query(db, f\"select word, freq, rowid from words where rowid={leftcandidate}\")[!,\"rowid\"][1]\n",
    "    println(lcandidate)\n",
    "end\n",
    "println(res)"
   ]
  },
  {
   "cell_type": "code",
   "execution_count": null,
   "id": "46eb5847-2bbb-4f5c-baa3-08d2a8b37353",
   "metadata": {},
   "outputs": [],
   "source": []
  },
  {
   "cell_type": "code",
   "execution_count": null,
   "id": "7a7cb685-ad52-495d-a180-9a3f19f996de",
   "metadata": {},
   "outputs": [],
   "source": []
  }
 ],
 "metadata": {
  "kernelspec": {
   "display_name": "Julia 1.8.5",
   "language": "julia",
   "name": "julia-1.8"
  },
  "language_info": {
   "file_extension": ".jl",
   "mimetype": "application/julia",
   "name": "julia",
   "version": "1.8.5"
  }
 },
 "nbformat": 4,
 "nbformat_minor": 5
}
